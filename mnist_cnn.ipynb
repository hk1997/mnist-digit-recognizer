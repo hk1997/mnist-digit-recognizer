{
 "cells": [
  {
   "cell_type": "code",
   "execution_count": 43,
   "metadata": {
    "_cell_guid": "8590a223-26a7-4cd2-8c48-d1802ae05a24",
    "_uuid": "f4bfeb95b457503dcbc2296869296a90ecbd13e3",
    "collapsed": true
   },
   "outputs": [],
   "source": [
    "# This Python 3 environment comes with many helpful analytics libraries installed\n",
    "# It is defined by the kaggle/python docker image: https://github.com/kaggle/docker-python\n",
    "# For example, here's several helpful packages to load in \n",
    "\n",
    "import numpy as np # linear algebra\n",
    "import pandas as pd # data processing, CSV file I/O (e.g. pd.read_csv)\n",
    "\n",
    "# Input data files are available in the \"../input/\" directory.\n",
    "# For example, running this (by clicking run or pressing Shift+Enter) will list the files in the input directory\n",
    "\n",
    "from subprocess import check_output\n",
    "#print(check_output([\"ls\", \"../input\"]).decode(\"utf8\"))\n",
    "\n",
    "# Any results you write to the current directory are saved as output."
   ]
  },
  {
   "cell_type": "code",
   "execution_count": 44,
   "metadata": {
    "_cell_guid": "872ec59f-0172-488f-9270-4ecc595cea12",
    "_uuid": "b18650736f0dfeec89bd78d2ddcc36461f698672",
    "collapsed": true
   },
   "outputs": [],
   "source": [
    "import tensorflow as tf"
   ]
  },
  {
   "cell_type": "markdown",
   "metadata": {
    "_cell_guid": "8a171b0a-daf7-4cb9-bcf4-a31c3d48675b",
    "_uuid": "58d761d9fd914df84838a66fd3dccd19535ced04"
   },
   "source": [
    "We are going to use a convolutional neural network with 3 layers.\n",
    "\n",
    "(conv2d+relu+maxPooling)-->(conv2D+relu+maxPooling)---> (flatten to a fully connected layer with softmax regressor)\n"
   ]
  },
  {
   "cell_type": "code",
   "execution_count": 45,
   "metadata": {
    "_cell_guid": "9932ad18-0a26-474d-812b-29626a592896",
    "_uuid": "9c207806163f201d8ab910a5a3b6d951c013f55e",
    "collapsed": true
   },
   "outputs": [],
   "source": [
    "#defining placeholders\n",
    "X=tf.placeholder(tf.float32,shape=(None,784))\n",
    "Y_=tf.placeholder(tf.float32,shape=[None,10]) #one hot vectors"
   ]
  },
  {
   "cell_type": "code",
   "execution_count": 46,
   "metadata": {
    "_cell_guid": "420c93f2-f72e-47ab-bd33-7aec36254dfa",
    "_uuid": "5b1f029405cd2e28aeb98aae50763a1247e60076",
    "collapsed": true
   },
   "outputs": [],
   "source": [
    "#defining helper functions for conv2d and max_pooling\n",
    "def conv2d(x,W):\n",
    "    return tf.nn.conv2d(x,W,strides=[1,1,1,1],padding='SAME')\n",
    "\n",
    "def max_pooling(x):\n",
    "    return tf.nn.max_pool(x,ksize=[1,2,2,1],strides=[1,2,2,1],padding='SAME')"
   ]
  },
  {
   "cell_type": "code",
   "execution_count": 47,
   "metadata": {
    "_cell_guid": "b693f90a-3063-43cf-abfa-e020525ced6c",
    "_uuid": "253380043d535f9a8cd2d793a4730386521d4ffe",
    "collapsed": true
   },
   "outputs": [],
   "source": [
    "#defining helper functions for weights and bias\n",
    "def weight_variable(shape):\n",
    "  initial = tf.truncated_normal(shape, stddev=0.1)\n",
    "  return tf.Variable(initial)\n",
    "\n",
    "def bias_variable(shape):\n",
    "  initial = tf.constant(0.1, shape=shape)\n",
    "  return tf.Variable(initial)"
   ]
  },
  {
   "cell_type": "code",
   "execution_count": 48,
   "metadata": {
    "_cell_guid": "62456a07-2489-4181-942b-8ead59f5c9b7",
    "_uuid": "65ec976fee2c128a6ac44127b782439eb035cef3",
    "collapsed": true
   },
   "outputs": [],
   "source": [
    "w1=weight_variable([5,5,1,32])\n",
    "b1=bias_variable([32])\n",
    "#now reshaping images from a image_count*784 vector to image_count*28*28*1\n",
    "X_image=tf.reshape(X,[-1,28,28,1])\n",
    "\n",
    "h_conv1=tf.nn.relu(conv2d(X_image,w1)+b1)\n",
    "h_pool1=max_pooling(h_conv1)"
   ]
  },
  {
   "cell_type": "markdown",
   "metadata": {
    "_cell_guid": "c52e4dc0-bd58-4d32-a425-67e0a96e6171",
    "_uuid": "f6854bbc674bc29eb98d00460120bdba985f37e1"
   },
   "source": [
    "Now we are going to define 2nd layer of cnn<br>\n",
    "input=> (14x14x32)<br>\n",
    "convolutional matrix=> (5x5x1)<br>\n",
    "output channels=> 64<br>\n",
    "resulting matrix => 14x14x64<br>\n",
    "\n",
    "Followed by adding some non linearity with relu activation fn<br>\n",
    "\n",
    "then finally max_pooling by ksize=2 <br>\n",
    "output matrix=> 7x7x64<br>"
   ]
  },
  {
   "cell_type": "code",
   "execution_count": 49,
   "metadata": {
    "_cell_guid": "0ebab94a-afdc-4874-9363-007660daf482",
    "_uuid": "d6cfb1655659e2d40827b2b5a1e5954c5d86f46b",
    "collapsed": true
   },
   "outputs": [],
   "source": [
    "w2=weight_variable([5,5,32,64])\n",
    "b2=bias_variable([64])\n",
    "h_conv2=tf.nn.relu(conv2d(h_pool1,w2)+b2)\n",
    "h_pool2=max_pooling(h_conv2)"
   ]
  },
  {
   "cell_type": "markdown",
   "metadata": {
    "_cell_guid": "976b7e29-a5d4-4451-bd06-1867926c3c40",
    "_uuid": "7815157a128ee1c12962457472e75aec44fc9e2b"
   },
   "source": [
    "Now image size has been reduced to 7x7.\n",
    "We are going to use a fully connected layer with 1024 neurons.\n",
    "We reshape the tensor from the pooling layer into a batch of vectors, multiply by a weight matrix, add a bias, and apply a ReLU."
   ]
  },
  {
   "cell_type": "code",
   "execution_count": 50,
   "metadata": {
    "_cell_guid": "ed5cf47a-a523-42ae-bf6e-591d2a33bb79",
    "_uuid": "91920f7314fbe5d53edf5ff1334b217034166bd7",
    "collapsed": true
   },
   "outputs": [],
   "source": [
    "h_pool_flat=tf.reshape(h_pool2,[-1,7*7*64])\n",
    "w3=weight_variable([7*7*64,1024])\n",
    "b3=bias_variable([1024])\n",
    "\n",
    "h_fc1 = tf.nn.relu(tf.matmul(h_pool_flat,w3)+b3)"
   ]
  },
  {
   "cell_type": "markdown",
   "metadata": {
    "_cell_guid": "c669367c-59e8-4adf-bda7-0548d2c8d8c4",
    "_uuid": "0b08c637daa0fbf20a543f3d5f5859a77150331c"
   },
   "source": [
    "Now finally we are defining our final layer using softmax classifier"
   ]
  },
  {
   "cell_type": "code",
   "execution_count": 51,
   "metadata": {
    "_cell_guid": "6261c3d6-7daa-4e77-bf4c-acd89f5c105b",
    "_uuid": "022ed0aef2a7f050b5182ab23b551579b52d0a8a",
    "collapsed": true
   },
   "outputs": [],
   "source": [
    "w4=weight_variable([1024,10])\n",
    "b4=bias_variable([10])\n",
    "y_conv= tf.matmul(h_fc1,w4)+b4"
   ]
  },
  {
   "cell_type": "code",
   "execution_count": 52,
   "metadata": {
    "_cell_guid": "1446c893-111c-43d0-9f2a-a791afa407bb",
    "_uuid": "4e6ef29c42133ef80a62314ff85802f5e229f708",
    "collapsed": true
   },
   "outputs": [],
   "source": [
    "cross_entropy = tf.reduce_mean(\n",
    "    tf.nn.softmax_cross_entropy_with_logits(labels=Y_, logits=y_conv))\n",
    "train_step = tf.train.AdamOptimizer(1e-4).minimize(cross_entropy)\n",
    "correct_prediction = tf.equal(tf.argmax(y_conv, 1), tf.argmax(Y_, 1))\n",
    "accuracy = tf.reduce_mean(tf.cast(correct_prediction, tf.float32))"
   ]
  },
  {
   "cell_type": "markdown",
   "metadata": {
    "_cell_guid": "afee1eda-ead7-4c78-8d8a-29f341ec0b36",
    "_uuid": "1aaf26fb453627f72bccd55d5aa5f59f0ba5592c"
   },
   "source": [
    "Now before running  the models it's time to preprocess our dataframe"
   ]
  },
  {
   "cell_type": "code",
   "execution_count": 53,
   "metadata": {
    "collapsed": true
   },
   "outputs": [],
   "source": [
    "#function to shuffel training set \n",
    "#return train_features and tran_labels(as one-hot vector)\n",
    "import sklearn.preprocessing\n",
    "from sklearn.utils import shuffle\n",
    "def randomshuffle(train):\n",
    "    #np.random.shuffle(train)\n",
    "    train=shuffle(train)\n",
    "    train_features=train.iloc[:,1:]\n",
    "    train_labels=train.iloc[:,0]\n",
    "    \n",
    "    a = np.array(train_labels)\n",
    "    label_binarizer = sklearn.preprocessing.LabelBinarizer()\n",
    "    label_binarizer.fit(range(max(a)+1))\n",
    "    b = label_binarizer.transform(a)\n",
    "    train_labels=b\n",
    "    return train_features,train_labels\n"
   ]
  },
  {
   "cell_type": "code",
   "execution_count": 54,
   "metadata": {
    "_cell_guid": "dd271e03-a0c5-45f9-bd48-90ce0e0ba057",
    "_uuid": "b2673c67c36321b2178d7151cc0de498c7f198e3",
    "collapsed": true
   },
   "outputs": [],
   "source": [
    "#importing and preprocessing data frames\n",
    "dataframe= pd.read_csv('./datasets/train.csv')\n",
    "from sklearn.model_selection import train_test_split as tts\n",
    "train, test=tts(dataframe,test_size=0.05,random_state=1)\n"
   ]
  },
  {
   "cell_type": "markdown",
   "metadata": {
    "_cell_guid": "2043c41a-0088-4c3b-8815-35606f9a2296",
    "_uuid": "681cdc6c79e63e78026c73a9da448e4a0e0dc612"
   },
   "source": [
    "Now it's time to train our models    "
   ]
  },
  {
   "cell_type": "code",
   "execution_count": 55,
   "metadata": {},
   "outputs": [
    {
     "name": "stdout",
     "output_type": "stream",
     "text": [
      "39900 39900\n"
     ]
    }
   ],
   "source": [
    "train_features,train_labels=randomshuffle(train)\n",
    "print(len(train_labels),len(train_features))"
   ]
  },
  {
   "cell_type": "code",
   "execution_count": 56,
   "metadata": {
    "_cell_guid": "b8074226-31a3-4740-a480-1bcaf4215d41",
    "_uuid": "3bd87e243b87993d7e8408a8664ace11cba1a075",
    "collapsed": true
   },
   "outputs": [],
   "source": [
    "init=tf.global_variables_initializer()\n",
    "sess=tf.Session()\n",
    "sess.run(init)\n",
    "\n",
    "import matplotlib.pyplot as plt"
   ]
  },
  {
   "cell_type": "code",
   "execution_count": 57,
   "metadata": {
    "_cell_guid": "19e74756-bfe0-43db-b905-47b92fd5ca03",
    "_uuid": "34a6628f21686cb896f16433d3e463e2075d133e"
   },
   "outputs": [
    {
     "name": "stdout",
     "output_type": "stream",
     "text": [
      "now entering training\n",
      "on minibatch iteration  0\n",
      "on minibatch iteration  100\n",
      "on minibatch iteration  200\n",
      "on minibatch iteration  300\n",
      "0.522601667297\n",
      "iteration=  0\n",
      "on minibatch iteration  0\n",
      "on minibatch iteration  100\n",
      "on minibatch iteration  200\n",
      "on minibatch iteration  300\n",
      "0.11061628527\n",
      "iteration=  1\n",
      "on minibatch iteration  0\n",
      "on minibatch iteration  100\n",
      "on minibatch iteration  200\n",
      "on minibatch iteration  300\n",
      "0.0753317512105\n",
      "iteration=  2\n",
      "on minibatch iteration  0\n",
      "on minibatch iteration  100\n",
      "on minibatch iteration  200\n",
      "on minibatch iteration  300\n",
      "0.0565326281725\n",
      "iteration=  3\n",
      "on minibatch iteration  0\n",
      "on minibatch iteration  100\n",
      "on minibatch iteration  200\n",
      "on minibatch iteration  300\n",
      "0.043300724076\n",
      "iteration=  4\n",
      "on minibatch iteration  0\n",
      "on minibatch iteration  100\n",
      "on minibatch iteration  200\n",
      "on minibatch iteration  300\n",
      "0.0356745996902\n",
      "iteration=  5\n",
      "on minibatch iteration  0\n",
      "on minibatch iteration  100\n",
      "on minibatch iteration  200\n",
      "on minibatch iteration  300\n",
      "0.0294724098444\n",
      "iteration=  6\n",
      "on minibatch iteration  0\n",
      "on minibatch iteration  100\n",
      "on minibatch iteration  200\n",
      "on minibatch iteration  300\n",
      "0.0242799864898\n",
      "iteration=  7\n",
      "on minibatch iteration  0\n",
      "on minibatch iteration  100\n",
      "on minibatch iteration  200\n",
      "on minibatch iteration  300\n",
      "0.0201415026305\n",
      "iteration=  8\n",
      "on minibatch iteration  0\n",
      "on minibatch iteration  100\n",
      "on minibatch iteration  200\n",
      "on minibatch iteration  300\n",
      "0.0171938405959\n",
      "iteration=  9\n",
      "on minibatch iteration  0\n",
      "on minibatch iteration  100\n",
      "on minibatch iteration  200\n",
      "on minibatch iteration  300\n",
      "0.0130645981144\n",
      "iteration=  10\n",
      "on minibatch iteration  0\n",
      "on minibatch iteration  100\n",
      "on minibatch iteration  200\n",
      "on minibatch iteration  300\n",
      "0.0100356513599\n",
      "iteration=  11\n",
      "on minibatch iteration  0\n",
      "on minibatch iteration  100\n",
      "on minibatch iteration  200\n",
      "on minibatch iteration  300\n",
      "0.00873153833547\n",
      "iteration=  12\n",
      "on minibatch iteration  0\n",
      "on minibatch iteration  100\n",
      "on minibatch iteration  200\n",
      "on minibatch iteration  300\n",
      "0.0102672212745\n",
      "iteration=  13\n",
      "on minibatch iteration  0\n",
      "on minibatch iteration  100\n",
      "on minibatch iteration  200\n",
      "on minibatch iteration  300\n",
      "0.00767731561631\n",
      "iteration=  14\n",
      "on minibatch iteration  0\n",
      "on minibatch iteration  100\n",
      "on minibatch iteration  200\n",
      "on minibatch iteration  300\n",
      "0.00547877340383\n",
      "iteration=  15\n",
      "on minibatch iteration  0\n",
      "on minibatch iteration  100\n",
      "on minibatch iteration  200\n",
      "on minibatch iteration  300\n",
      "0.00533645217106\n",
      "iteration=  16\n",
      "on minibatch iteration  0\n",
      "on minibatch iteration  100\n",
      "on minibatch iteration  200\n",
      "on minibatch iteration  300\n",
      "0.00574923851992\n",
      "iteration=  17\n",
      "on minibatch iteration  0\n",
      "on minibatch iteration  100\n",
      "on minibatch iteration  200\n",
      "on minibatch iteration  300\n",
      "0.00462102472125\n",
      "iteration=  18\n",
      "on minibatch iteration  0\n",
      "on minibatch iteration  100\n",
      "on minibatch iteration  200\n",
      "on minibatch iteration  300\n",
      "0.00579020405548\n",
      "iteration=  19\n"
     ]
    },
    {
     "data": {
      "image/png": "[encoded data removed]",
      "text/plain": [
       "<matplotlib.figure.Figure at 0x7f27d0b27d68>"
      ]
     },
     "metadata": {},
     "output_type": "display_data"
    }
   ],
   "source": [
    "print(\"now entering training\")\n",
    "costs=[]\n",
    "for i in range (20):   \n",
    "    j=0\n",
    "    train_features,train_labels=randomshuffle(train)\n",
    "    batch_cost=0\n",
    "    for j in range (399):\n",
    "        batch_x=train_features.iloc[(j%400)*100:((j+1)%400)*100,:]/255\n",
    "        batch_y=train_labels[(j%400)*100:((j+1)%400)*100,:]\n",
    "        _,cost_batch=sess.run([train_step,cross_entropy],{X:batch_x,Y_:batch_y})\n",
    "        batch_cost+=cost_batch/399.0   \n",
    "        if j==398:\n",
    "            costs.append(batch_cost)\n",
    "            print(batch_cost)\n",
    "        if j%100==0:\n",
    "            print('on minibatch iteration ',j)\n",
    "    #_x.append(i)  \n",
    "    #costs.append(float(cost))\n",
    "    #if i%5==0:\n",
    "    print(\"iteration= \",i)\n",
    "    #print(cost,costs)\n",
    "plt.plot(costs)\n",
    "plt.show()"
   ]
  },
  {
   "cell_type": "code",
   "execution_count": 59,
   "metadata": {
    "_cell_guid": "ec76a74b-829b-472c-9d1d-4dcfb0b47857",
    "_uuid": "b26cab3b7ebc3efb9fba9925b2d19c093f29f37b",
    "collapsed": true
   },
   "outputs": [],
   "source": [
    "test_features,test_labels=randomshuffle(test)"
   ]
  },
  {
   "cell_type": "code",
   "execution_count": 60,
   "metadata": {
    "_cell_guid": "57baf3a1-bc23-4a98-b261-3b3aa957168b",
    "_uuid": "6882aefb1932622472312fe955f6b0ee7aca5624"
   },
   "outputs": [
    {
     "name": "stdout",
     "output_type": "stream",
     "text": [
      "0.983333\n"
     ]
    }
   ],
   "source": [
    "print(sess.run(accuracy,{X:test_features,Y_:test_labels}))"
   ]
  },
  {
   "cell_type": "code",
   "execution_count": 61,
   "metadata": {
    "_cell_guid": "367d2d10-42a6-4295-b384-cb97e0e23b1a",
    "_uuid": "be1a4cf0d40fb661b10a9800409b3a54f7776fe1"
   },
   "outputs": [],
   "source": [
    "test_set=pd.read_csv('./datasets/test.csv')"
   ]
  },
  {
   "cell_type": "code",
   "execution_count": 62,
   "metadata": {},
   "outputs": [
    {
     "name": "stdout",
     "output_type": "stream",
     "text": [
      "28000\n"
     ]
    }
   ],
   "source": [
    "print(len(test_set))"
   ]
  },
  {
   "cell_type": "code",
   "execution_count": 63,
   "metadata": {},
   "outputs": [
    {
     "name": "stdout",
     "output_type": "stream",
     "text": [
      "28000\n"
     ]
    }
   ],
   "source": [
    "test_result=[]\n",
    "for i in range(280):\n",
    "    df1=test_set.iloc[i*100:(i+1)*100,:]/255\n",
    "    ans=tf.argmax(y_conv, 1)\n",
    "    y1,pred=sess.run([y_conv,ans],{X:df1})\n",
    "    for j in range(len(pred)):\n",
    "        test_result.append(pred[j])\n",
    "print(len(test_result))"
   ]
  },
  {
   "cell_type": "code",
   "execution_count": 64,
   "metadata": {
    "collapsed": true
   },
   "outputs": [],
   "source": [
    "\n",
    "test_result=np.array(test_result)"
   ]
  },
  {
   "cell_type": "code",
   "execution_count": 65,
   "metadata": {
    "collapsed": true
   },
   "outputs": [],
   "source": [
    "labels=[]\n",
    "for x in range (1,28001):\n",
    "    labels.append(x)\n",
    "labels=np.array(labels)"
   ]
  },
  {
   "cell_type": "code",
   "execution_count": 66,
   "metadata": {},
   "outputs": [
    {
     "name": "stdout",
     "output_type": "stream",
     "text": [
      "28000 28000\n"
     ]
    }
   ],
   "source": [
    "df={\n",
    "    'ImageId':labels,\n",
    "    'Label':test_result\n",
    "}\n",
    "print(len(labels),len(test_result))\n",
    "pd_df=pd.DataFrame(data=df)\n",
    "pd_df.to_csv('cnn_regularized.csv',index=False)"
   ]
  },
  {
   "cell_type": "code",
   "execution_count": null,
   "metadata": {},
   "outputs": [],
   "source": []
  },
  {
   "cell_type": "code",
   "execution_count": null,
   "metadata": {
    "collapsed": true
   },
   "outputs": [],
   "source": []
  }
 ],
 "metadata": {
  "kernelspec": {
   "display_name": "Python 3",
   "language": "python",
   "name": "python3"
  },
  "language_info": {
   "codemirror_mode": {
    "name": "ipython",
    "version": 3
   },
   "file_extension": ".py",
   "mimetype": "text/x-python",
   "name": "python",
   "nbconvert_exporter": "python",
   "pygments_lexer": "ipython3",
   "version": "3.6.2"
  }
 },
 "nbformat": 4,
 "nbformat_minor": 1
}
